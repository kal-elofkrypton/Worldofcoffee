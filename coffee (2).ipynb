{
 "cells": [
  {
   "cell_type": "markdown",
   "id": "580f383a-a42e-4041-b4a4-af031db2f858",
   "metadata": {},
   "source": [
    "download csv file to notebook first"
   ]
  },
  {
   "cell_type": "code",
   "execution_count": 1,
   "id": "41d062d3-9e42-4047-bdf8-873c788e8fb0",
   "metadata": {},
   "outputs": [
    {
     "data": {
      "text/html": [
       "<div>\n",
       "<style scoped>\n",
       "    .dataframe tbody tr th:only-of-type {\n",
       "        vertical-align: middle;\n",
       "    }\n",
       "\n",
       "    .dataframe tbody tr th {\n",
       "        vertical-align: top;\n",
       "    }\n",
       "\n",
       "    .dataframe thead th {\n",
       "        text-align: right;\n",
       "    }\n",
       "</style>\n",
       "<table border=\"1\" class=\"dataframe\">\n",
       "  <thead>\n",
       "    <tr style=\"text-align: right;\">\n",
       "      <th></th>\n",
       "      <th>Country</th>\n",
       "      <th>Year</th>\n",
       "      <th>Coffee Consumption (kg per capita per year)</th>\n",
       "      <th>Average Coffee Price (USD per kg)</th>\n",
       "      <th>Type of Coffee Consumed</th>\n",
       "      <th>Population (millions)</th>\n",
       "    </tr>\n",
       "  </thead>\n",
       "  <tbody>\n",
       "    <tr>\n",
       "      <th>0</th>\n",
       "      <td>Country_39</td>\n",
       "      <td>2023</td>\n",
       "      <td>9.253939</td>\n",
       "      <td>6.467453</td>\n",
       "      <td>Americano</td>\n",
       "      <td>65.929478</td>\n",
       "    </tr>\n",
       "    <tr>\n",
       "      <th>1</th>\n",
       "      <td>Country_29</td>\n",
       "      <td>2011</td>\n",
       "      <td>9.981203</td>\n",
       "      <td>4.346744</td>\n",
       "      <td>Mocha</td>\n",
       "      <td>82.456680</td>\n",
       "    </tr>\n",
       "    <tr>\n",
       "      <th>2</th>\n",
       "      <td>Country_15</td>\n",
       "      <td>2020</td>\n",
       "      <td>3.312916</td>\n",
       "      <td>8.767496</td>\n",
       "      <td>Latte</td>\n",
       "      <td>110.938862</td>\n",
       "    </tr>\n",
       "    <tr>\n",
       "      <th>3</th>\n",
       "      <td>Country_43</td>\n",
       "      <td>2005</td>\n",
       "      <td>2.436180</td>\n",
       "      <td>11.748750</td>\n",
       "      <td>Espresso</td>\n",
       "      <td>43.137207</td>\n",
       "    </tr>\n",
       "    <tr>\n",
       "      <th>4</th>\n",
       "      <td>Country_8</td>\n",
       "      <td>2019</td>\n",
       "      <td>4.637849</td>\n",
       "      <td>8.999099</td>\n",
       "      <td>Mocha</td>\n",
       "      <td>65.484262</td>\n",
       "    </tr>\n",
       "  </tbody>\n",
       "</table>\n",
       "</div>"
      ],
      "text/plain": [
       "      Country  Year  Coffee Consumption (kg per capita per year)  \\\n",
       "0  Country_39  2023                                     9.253939   \n",
       "1  Country_29  2011                                     9.981203   \n",
       "2  Country_15  2020                                     3.312916   \n",
       "3  Country_43  2005                                     2.436180   \n",
       "4   Country_8  2019                                     4.637849   \n",
       "\n",
       "   Average Coffee Price (USD per kg) Type of Coffee Consumed  \\\n",
       "0                           6.467453               Americano   \n",
       "1                           4.346744                   Mocha   \n",
       "2                           8.767496                   Latte   \n",
       "3                          11.748750                Espresso   \n",
       "4                           8.999099                   Mocha   \n",
       "\n",
       "   Population (millions)  \n",
       "0              65.929478  \n",
       "1              82.456680  \n",
       "2             110.938862  \n",
       "3              43.137207  \n",
       "4              65.484262  "
      ]
     },
     "execution_count": 1,
     "metadata": {},
     "output_type": "execute_result"
    }
   ],
   "source": [
    "import pandas as pd\n",
    "\n",
    "# Assuming the file is uploaded in the current working directory\n",
    "file_path = 'worldwide_coffee_habits.csv'  # Replace 'your_file.csv' with the actual filename\n",
    "df = pd.read_csv(file_path)\n",
    "\n",
    "# Display the first few rows of the DataFrame\n",
    "df.head()"
   ]
  },
  {
   "cell_type": "code",
   "execution_count": 3,
   "id": "99c42d5d-d0de-49b2-826b-f065ee4f1b75",
   "metadata": {},
   "outputs": [],
   "source": [
    "import pandas as pd\n",
    "import matplotlib.pyplot as plt\n",
    "import ipywidgets as widgets\n",
    "from ipywidgets import interactive\n",
    "\n",
    "# Load your data\n",
    "file_path = 'worldwide_coffee_habits.csv'\n",
    "df = pd.read_csv(file_path)\n",
    "\n",
    "# Calculate total coffee expenditure\n",
    "df['Total Expenditure'] = df['Coffee Consumption (kg per capita per year)'] * df['Average Coffee Price (USD per kg)']\n",
    "\n",
    "# Aggregate total expenditure by country and coffee type\n",
    "expenditure_df = df.groupby(['Country', 'Type of Coffee Consumed']).agg(\n",
    "    Total_Expenditure=('Total Expenditure', 'sum'),\n",
    "    Total_Population=('Population (millions)', 'sum')\n",
    ").reset_index()\n"
   ]
  },
  {
   "cell_type": "code",
   "execution_count": 4,
   "id": "7a2541bd-2a9b-4c35-acfd-1c366ee1cd59",
   "metadata": {},
   "outputs": [],
   "source": [
    "def plot_expenditure_by_country(selected_country):\n",
    "    if selected_country == 'All':\n",
    "        filtered_df = expenditure_df\n",
    "    else:\n",
    "        filtered_df = expenditure_df[expenditure_df['Country'] == selected_country]\n",
    "    \n",
    "    # Aggregate by coffee type\n",
    "    country_expenditure = filtered_df.groupby('Type of Coffee Consumed')['Total_Expenditure'].sum().sort_values()\n",
    "    \n",
    "    plt.figure(figsize=(12, 8))\n",
    "    country_expenditure.plot(kind='bar')\n",
    "    plt.title(f'Total Coffee Expenditure by Coffee Type for {selected_country}')\n",
    "    plt.xlabel('Type of Coffee Consumed')\n",
    "    plt.ylabel('Total Expenditure (USD)')\n",
    "    plt.xticks(rotation=45)\n",
    "    plt.show()\n",
    "\n",
    "def plot_expenditure_by_coffee_type(selected_coffee_type):\n",
    "    if selected_coffee_type == 'All':\n",
    "        filtered_df = expenditure_df\n",
    "    else:\n",
    "        filtered_df = expenditure_df[expenditure_df['Type of Coffee Consumed'] == selected_coffee_type]\n",
    "    \n",
    "    # Aggregate by country\n",
    "    coffee_type_expenditure = filtered_df.groupby('Country')['Total_Expenditure'].sum().sort_values()\n",
    "    \n",
    "    plt.figure(figsize=(12, 8))\n",
    "    coffee_type_expenditure.plot(kind='bar')\n",
    "    plt.title(f'Total Coffee Expenditure by Country for {selected_coffee_type}')\n",
    "    plt.xlabel('Country')\n",
    "    plt.ylabel('Total Expenditure (USD)')\n",
    "    plt.xticks(rotation=45)\n",
    "    plt.show()\n"
   ]
  },
  {
   "cell_type": "code",
   "execution_count": 5,
   "id": "3abc1f49-5ca8-4e3a-931e-2805d1ec632e",
   "metadata": {},
   "outputs": [
    {
     "name": "stdout",
     "output_type": "stream",
     "text": [
      "Select a country to see expenditure by coffee type:\n"
     ]
    },
    {
     "data": {
      "application/vnd.jupyter.widget-view+json": {
       "model_id": "55d7cb2aa7b84ad48097073e648d011c",
       "version_major": 2,
       "version_minor": 0
      },
      "text/plain": [
       "interactive(children=(Dropdown(description='Country:', options=('All', 'Country_39', 'Country_29', 'Country_15…"
      ]
     },
     "metadata": {},
     "output_type": "display_data"
    },
    {
     "name": "stdout",
     "output_type": "stream",
     "text": [
      "Select a coffee type to see expenditure by country:\n"
     ]
    },
    {
     "data": {
      "application/vnd.jupyter.widget-view+json": {
       "model_id": "159019f2edce4fe2ab5668cc29be4f33",
       "version_major": 2,
       "version_minor": 0
      },
      "text/plain": [
       "interactive(children=(Dropdown(description='Coffee Type:', options=('All', 'Americano', 'Mocha', 'Latte', 'Esp…"
      ]
     },
     "metadata": {},
     "output_type": "display_data"
    }
   ],
   "source": [
    "# Create interactive widgets\n",
    "country_selector = widgets.Dropdown(\n",
    "    options=['All'] + list(df['Country'].unique()),\n",
    "    value='All',\n",
    "    description='Country:',\n",
    ")\n",
    "\n",
    "coffee_selector = widgets.Dropdown(\n",
    "    options=['All'] + list(df['Type of Coffee Consumed'].unique()),\n",
    "    value='All',\n",
    "    description='Coffee Type:',\n",
    ")\n",
    "\n",
    "# Use the interactive function to update plots\n",
    "interactive_country_plot = interactive(plot_expenditure_by_country, selected_country=country_selector)\n",
    "interactive_coffee_plot = interactive(plot_expenditure_by_coffee_type, selected_coffee_type=coffee_selector)\n",
    "\n",
    "# Display interactive widgets\n",
    "print(\"Select a country to see expenditure by coffee type:\")\n",
    "display(interactive_country_plot)\n",
    "\n",
    "print(\"Select a coffee type to see expenditure by country:\")\n",
    "display(interactive_coffee_plot)\n"
   ]
  },
  {
   "cell_type": "code",
   "execution_count": null,
   "id": "920cc66e-2dc7-420c-846f-9a92e698bda6",
   "metadata": {},
   "outputs": [],
   "source": []
  }
 ],
 "metadata": {
  "kernelspec": {
   "display_name": "Python 3 (ipykernel)",
   "language": "python",
   "name": "python3"
  },
  "language_info": {
   "codemirror_mode": {
    "name": "ipython",
    "version": 3
   },
   "file_extension": ".py",
   "mimetype": "text/x-python",
   "name": "python",
   "nbconvert_exporter": "python",
   "pygments_lexer": "ipython3",
   "version": "3.12.3"
  }
 },
 "nbformat": 4,
 "nbformat_minor": 5
}
